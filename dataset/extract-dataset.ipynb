{
 "cells": [
  {
   "cell_type": "code",
   "execution_count": 1,
   "id": "c690c065",
   "metadata": {},
   "outputs": [
    {
     "name": "stdout",
     "output_type": "stream",
     "text": [
      "Warning: Your Kaggle API key is readable by other users on this system! To fix this, you can run 'chmod 600 /home/nitron/.kaggle/kaggle.json'\n",
      "jigsaw-unintended-bias-in-toxicity-classification.zip: Skipping, found more recently modified local copy (use --force to force download)\n",
      "train.csv extracted from jigsaw-unintended-bias-in-toxicity-classification.zip\n"
     ]
    }
   ],
   "source": [
    "import zipfile\n",
    "import os.path\n",
    "\n",
    "# specify the path to the zip file\n",
    "zip_path = 'jigsaw-unintended-bias-in-toxicity-classification.zip'\n",
    "\n",
    "# specify the name of the file to extract\n",
    "file_to_extract = 'train.csv'\n",
    "\n",
    "# check if the file has already been extracted\n",
    "if not os.path.isfile(file_to_extract):\n",
    "    \n",
    "    #download the dataset if file not found\n",
    "    !kaggle competitions download -c jigsaw-unintended-bias-in-toxicity-classification\n",
    "    \n",
    "    # open the zip file\n",
    "    with zipfile.ZipFile(zip_path, 'r') as zip_ref:\n",
    "        # extract the file to the current working directory\n",
    "        zip_ref.extract(file_to_extract)\n",
    "        print(f'{file_to_extract} extracted from {zip_path}')\n",
    "else:\n",
    "    print(f'{file_to_extract} already extracted from {zip_path}')"
   ]
  },
  {
   "cell_type": "code",
   "execution_count": 2,
   "id": "fc258771",
   "metadata": {},
   "outputs": [],
   "source": [
    "#Importing the pandas library for reading\n",
    "import pandas as pd\n",
    "\n",
    "# load the CSV file into a Pandas dataframe\n",
    "data = pd.read_csv(\"train.csv\")"
   ]
  },
  {
   "cell_type": "code",
   "execution_count": 3,
   "id": "ef14710f",
   "metadata": {},
   "outputs": [
    {
     "name": "stdout",
     "output_type": "stream",
     "text": [
      "<class 'pandas.core.frame.DataFrame'>\n",
      "RangeIndex: 1804874 entries, 0 to 1804873\n",
      "Data columns (total 45 columns):\n",
      " #   Column                               Dtype  \n",
      "---  ------                               -----  \n",
      " 0   id                                   int64  \n",
      " 1   target                               float64\n",
      " 2   comment_text                         object \n",
      " 3   severe_toxicity                      float64\n",
      " 4   obscene                              float64\n",
      " 5   identity_attack                      float64\n",
      " 6   insult                               float64\n",
      " 7   threat                               float64\n",
      " 8   asian                                float64\n",
      " 9   atheist                              float64\n",
      " 10  bisexual                             float64\n",
      " 11  black                                float64\n",
      " 12  buddhist                             float64\n",
      " 13  christian                            float64\n",
      " 14  female                               float64\n",
      " 15  heterosexual                         float64\n",
      " 16  hindu                                float64\n",
      " 17  homosexual_gay_or_lesbian            float64\n",
      " 18  intellectual_or_learning_disability  float64\n",
      " 19  jewish                               float64\n",
      " 20  latino                               float64\n",
      " 21  male                                 float64\n",
      " 22  muslim                               float64\n",
      " 23  other_disability                     float64\n",
      " 24  other_gender                         float64\n",
      " 25  other_race_or_ethnicity              float64\n",
      " 26  other_religion                       float64\n",
      " 27  other_sexual_orientation             float64\n",
      " 28  physical_disability                  float64\n",
      " 29  psychiatric_or_mental_illness        float64\n",
      " 30  transgender                          float64\n",
      " 31  white                                float64\n",
      " 32  created_date                         object \n",
      " 33  publication_id                       int64  \n",
      " 34  parent_id                            float64\n",
      " 35  article_id                           int64  \n",
      " 36  rating                               object \n",
      " 37  funny                                int64  \n",
      " 38  wow                                  int64  \n",
      " 39  sad                                  int64  \n",
      " 40  likes                                int64  \n",
      " 41  disagree                             int64  \n",
      " 42  sexual_explicit                      float64\n",
      " 43  identity_annotator_count             int64  \n",
      " 44  toxicity_annotator_count             int64  \n",
      "dtypes: float64(32), int64(10), object(3)\n",
      "memory usage: 619.7+ MB\n"
     ]
    }
   ],
   "source": [
    "data.info()"
   ]
  },
  {
   "cell_type": "code",
   "execution_count": 4,
   "id": "b8b3962d",
   "metadata": {},
   "outputs": [
    {
     "data": {
      "text/plain": [
       "target                                       0\n",
       "comment_text                                 3\n",
       "severe_toxicity                              0\n",
       "obscene                                      0\n",
       "identity_attack                              0\n",
       "insult                                       0\n",
       "threat                                       0\n",
       "asian                                  1399744\n",
       "atheist                                1399744\n",
       "bisexual                               1399744\n",
       "black                                  1399744\n",
       "buddhist                               1399744\n",
       "christian                              1399744\n",
       "female                                 1399744\n",
       "heterosexual                           1399744\n",
       "hindu                                  1399744\n",
       "homosexual_gay_or_lesbian              1399744\n",
       "intellectual_or_learning_disability    1399744\n",
       "jewish                                 1399744\n",
       "latino                                 1399744\n",
       "male                                   1399744\n",
       "muslim                                 1399744\n",
       "other_disability                       1399744\n",
       "other_gender                           1399744\n",
       "other_race_or_ethnicity                1399744\n",
       "other_religion                         1399744\n",
       "other_sexual_orientation               1399744\n",
       "physical_disability                    1399744\n",
       "psychiatric_or_mental_illness          1399744\n",
       "transgender                            1399744\n",
       "white                                  1399744\n",
       "sexual_explicit                              0\n",
       "dtype: int64"
      ]
     },
     "execution_count": 4,
     "metadata": {},
     "output_type": "execute_result"
    }
   ],
   "source": [
    "#drop meta data columns\n",
    "meta_columns = ['created_date','publication_id','parent_id','article_id','created_date','rating','funny','wow','sad','likes', 'disagree']\n",
    "data.drop(meta_columns, axis=1, inplace=True)\n",
    "\n",
    "#drop unnecessary columns\n",
    "#unnecessary_columns = ['id','split','identity_annotator_count','toxicity_annotator_count']\n",
    "unnecessary_columns = ['id','identity_annotator_count','toxicity_annotator_count']\n",
    "data.drop(unnecessary_columns, axis=1, inplace=True)\n",
    "\n",
    "data.isnull().sum()"
   ]
  },
  {
   "cell_type": "code",
   "execution_count": 5,
   "id": "ad449cb8",
   "metadata": {},
   "outputs": [
    {
     "data": {
      "text/plain": [
       "target                                       0\n",
       "comment_text                                 3\n",
       "severe_toxicity                              0\n",
       "obscene                                      0\n",
       "identity_attack                              0\n",
       "insult                                       0\n",
       "threat                                       0\n",
       "asian                                  1399744\n",
       "atheist                                1399744\n",
       "bisexual                               1399744\n",
       "black                                  1399744\n",
       "buddhist                               1399744\n",
       "christian                              1399744\n",
       "female                                 1399744\n",
       "heterosexual                           1399744\n",
       "hindu                                  1399744\n",
       "homosexual_gay_or_lesbian              1399744\n",
       "intellectual_or_learning_disability    1399744\n",
       "jewish                                 1399744\n",
       "latino                                 1399744\n",
       "male                                   1399744\n",
       "muslim                                 1399744\n",
       "other_disability                       1399744\n",
       "other_gender                           1399744\n",
       "other_race_or_ethnicity                1399744\n",
       "other_religion                         1399744\n",
       "other_sexual_orientation               1399744\n",
       "physical_disability                    1399744\n",
       "psychiatric_or_mental_illness          1399744\n",
       "transgender                            1399744\n",
       "white                                  1399744\n",
       "sexual_explicit                              0\n",
       "dtype: int64"
      ]
     },
     "execution_count": 5,
     "metadata": {},
     "output_type": "execute_result"
    }
   ],
   "source": [
    "\n",
    "#Gender\n",
    "gender_columns = ['male','female','transgender', 'other_gender','heterosexual','homosexual_gay_or_lesbian', 'bisexual', 'other_sexual_orientation']\n",
    "\n",
    "#Religion\n",
    "religion_columns = ['christian', 'jewish', 'muslim', 'hindu', 'buddhist', 'atheist', 'other_religion']\n",
    "\n",
    "#Race\n",
    "race_columns = ['black', 'white', 'asian', 'latino', 'other_race_or_ethnicity']\n",
    "\n",
    "#Disability\n",
    "disability_columns = ['physical_disability','intellectual_or_learning_disability','psychiatric_or_mental_illness', 'other_disability']\n",
    "\n",
    "\n",
    "data.isnull().sum()"
   ]
  },
  {
   "cell_type": "code",
   "execution_count": 6,
   "id": "18c3f53f",
   "metadata": {},
   "outputs": [],
   "source": [
    "\n",
    "data.drop(gender_columns, axis=1, inplace=True)\n",
    "data.drop(religion_columns, axis=1, inplace=True)\n",
    "data.drop(race_columns, axis=1, inplace=True)\n",
    "data.drop(disability_columns, axis=1, inplace=True)\n"
   ]
  },
  {
   "cell_type": "code",
   "execution_count": 7,
   "id": "6cb4da0f",
   "metadata": {},
   "outputs": [
    {
     "data": {
      "text/plain": [
       "target             0\n",
       "comment_text       0\n",
       "severe_toxicity    0\n",
       "obscene            0\n",
       "identity_attack    0\n",
       "insult             0\n",
       "threat             0\n",
       "sexual_explicit    0\n",
       "dtype: int64"
      ]
     },
     "execution_count": 7,
     "metadata": {},
     "output_type": "execute_result"
    }
   ],
   "source": [
    "data = data.dropna()\n",
    "data.isnull().sum()"
   ]
  },
  {
   "cell_type": "code",
   "execution_count": 8,
   "id": "79b2b26f",
   "metadata": {},
   "outputs": [
    {
     "name": "stdout",
     "output_type": "stream",
     "text": [
      "<class 'pandas.core.frame.DataFrame'>\n",
      "Index: 1804871 entries, 0 to 1804873\n",
      "Data columns (total 8 columns):\n",
      " #   Column           Dtype  \n",
      "---  ------           -----  \n",
      " 0   target           float64\n",
      " 1   comment_text     object \n",
      " 2   severe_toxicity  float64\n",
      " 3   obscene          float64\n",
      " 4   identity_attack  float64\n",
      " 5   insult           float64\n",
      " 6   threat           float64\n",
      " 7   sexual_explicit  float64\n",
      "dtypes: float64(7), object(1)\n",
      "memory usage: 123.9+ MB\n"
     ]
    }
   ],
   "source": [
    "data.info()"
   ]
  },
  {
   "cell_type": "code",
   "execution_count": 9,
   "id": "1b0b006a",
   "metadata": {},
   "outputs": [
    {
     "name": "stdout",
     "output_type": "stream",
     "text": [
      "Shape of the dataset before duplicates deletion is : (1804871, 8)\n",
      "Number of duplicates in the dataset : 17953\n",
      "Shape of the dataset after duplicates deletion is : (1786918, 8)\n"
     ]
    }
   ],
   "source": [
    "print(\"Shape of the dataset before duplicates deletion is :\",data.shape)\n",
    "print('Number of duplicates in the dataset :',data.duplicated().sum())\n",
    "data.drop_duplicates(inplace=True)\n",
    "print(\"Shape of the dataset after duplicates deletion is :\",data.shape)\n",
    "\n",
    "data.to_csv('train.csv', index=False)"
   ]
  },
  {
   "cell_type": "code",
   "execution_count": null,
   "id": "5ccc6e38",
   "metadata": {},
   "outputs": [],
   "source": []
  }
 ],
 "metadata": {
  "kernelspec": {
   "display_name": "Python 3 (ipykernel)",
   "language": "python",
   "name": "python3"
  },
  "language_info": {
   "codemirror_mode": {
    "name": "ipython",
    "version": 3
   },
   "file_extension": ".py",
   "mimetype": "text/x-python",
   "name": "python",
   "nbconvert_exporter": "python",
   "pygments_lexer": "ipython3",
   "version": "3.10.6"
  }
 },
 "nbformat": 4,
 "nbformat_minor": 5
}
