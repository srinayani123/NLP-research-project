{
 "cells": [
  {
   "cell_type": "code",
   "execution_count": 6,
   "id": "ba19b8c9",
   "metadata": {},
   "outputs": [],
   "source": [
    "    #download required resources\n",
    "\n",
    "    import importlib\n",
    "\n",
    "    # check if pandas is already installed\n",
    "    if importlib.util.find_spec('pandas') is None:\n",
    "        !pip install -q --user pandas\n",
    "\n",
    "    # check if sklearn is already installed\n",
    "    if importlib.util.find_spec('scikit-learn') is None:\n",
    "        !pip install -q --user scikit-learn\n",
    "\n",
    "    # check if kaggle is already installed\n",
    "    if importlib.util.find_spec('kaggle') is None:\n",
    "        !pip install -q --user kaggle\n",
    "\n",
    "    # check if nlp is already installed\n",
    "    if importlib.util.find_spec('nltk') is None:\n",
    "        !pip install -q --user nltk\n",
    "\n",
    "    # check if wordcloud is already installed\n",
    "    if importlib.util.find_spec('wordcloud') is None:\n",
    "        !pip install -q --user wordcloud\n",
    "\n",
    "    # check if matplotlib is already installed\n",
    "    if importlib.util.find_spec('matplotlib') is None:\n",
    "        !pip install -q --user matplotlib\n",
    "\n",
    "    # check if seaborn is already installed\n",
    "    if importlib.util.find_spec('seaborn') is None:\n",
    "        !pip install -q --user seaborn\n",
    "\n",
    "\n",
    "    # check if tensorflow is already installed\n",
    "    if importlib.util.find_spec('tensorflow') is None:\n",
    "        !pip install -q --user tensorflow\n",
    "\n",
    "    #BiLSTM\n",
    "    # check if imblearn is already installed\n",
    "    if importlib.util.find_spec('imblearn') is None:\n",
    "        !pip install -q --user imblearn"
   ]
  },
  {
   "cell_type": "code",
   "execution_count": 4,
   "id": "a4961bda",
   "metadata": {},
   "outputs": [],
   "source": [
    "import nltk\n",
    "import os\n",
    "\n",
    "# specify the path to the nltk_data directory\n",
    "nltk_data_dir = os.path.join(os.path.expanduser('~'), 'nltk_data')\n",
    "\n",
    "# check if omw, punkt, wordnet and stopwords are available in nltk_data\n",
    "omw_path = os.path.join(nltk_data_dir, 'corpora/omw-1.4.zip')\n",
    "punkt_path = os.path.join(nltk_data_dir, 'tokenizers/punkt.zip')\n",
    "wordnet_path = os.path.join(nltk_data_dir, 'corpora/wordnet.zip')\n",
    "stopwords_path = os.path.join(nltk_data_dir, 'corpora/stopwords.zip')\n",
    "\n",
    "if not os.path.exists(omw_path):\n",
    "    nltk.download('omw-1.4')\n",
    "if not os.path.exists(punkt_path):\n",
    "    nltk.download('punkt')\n",
    "if not os.path.exists(wordnet_path):\n",
    "    nltk.download('wordnet')\n",
    "if not os.path.exists(stopwords_path):\n",
    "    nltk.download('stopwords')"
   ]
  }
 ],
 "metadata": {
  "kernelspec": {
   "display_name": "Python 3 (ipykernel)",
   "language": "python",
   "name": "python3"
  },
  "language_info": {
   "codemirror_mode": {
    "name": "ipython",
    "version": 3
   },
   "file_extension": ".py",
   "mimetype": "text/x-python",
   "name": "python",
   "nbconvert_exporter": "python",
   "pygments_lexer": "ipython3",
   "version": "3.10.6"
  }
 },
 "nbformat": 4,
 "nbformat_minor": 5
}
